{
 "cells": [
  {
   "cell_type": "code",
   "execution_count": 1,
   "metadata": {},
   "outputs": [],
   "source": [
    "from application.getDistractors import *\n",
    "from application.getMeanings import *\n",
    "from application.getQuestion import *"
   ]
  },
  {
   "cell_type": "code",
   "execution_count": 2,
   "metadata": {},
   "outputs": [
    {
     "name": "stdout",
     "output_type": "stream",
     "text": [
      "[]\n"
     ]
    }
   ],
   "source": [
    "print(get_bow('reflection'))"
   ]
  },
  {
   "cell_type": "code",
   "execution_count": 3,
   "metadata": {},
   "outputs": [
    {
     "name": "stdout",
     "output_type": "stream",
     "text": [
      "['entity', 'peristylar', 'thivel']\n"
     ]
    }
   ],
   "source": [
    "print(get_distractors_c('reflection'))"
   ]
  },
  {
   "cell_type": "code",
   "execution_count": 2,
   "metadata": {},
   "outputs": [],
   "source": [
    "\n",
    "summarized_text = '''The incident ray, the normal at the point of incidence and the reflected are all in this plane. Bob greene: when you bend the paper you create a plane \n",
    "different from the plane in which incident and normal lie - this indicates that incident, normal and reflection all lie in the same plane, he says. \n",
    "It's another law of reflection.'''\n",
    "\n",
    "list_of_keywords = ['plane', 'point', 'paper', 'incidence', 'lie', 'law', 'reflection']\n",
    "\n",
    "list_of_meanings=get_meanings(summarized_text,list_of_keywords)"
   ]
  },
  {
   "cell_type": "code",
   "execution_count": 2,
   "metadata": {},
   "outputs": [
    {
     "name": "stdout",
     "output_type": "stream",
     "text": [
      "{'id': '9311bc14-36ed-4b6e-a83e-04bdfbfe86f8', 'output': 'The incident ray, the normal at the point of incidence and the reflected ray rate, are also observed to have a small effect in that the ray length in the mirror is a smaller portion of the rate of reflection of the light in the mirror, and that this means the mirror is more dimrable, so that when, compared with a more dimmer mirror, the rays coming in different directions, the ray length in the mirror must be much longer. In the case of light rays, the reflectance of the rays is reduced by the rate of the ray, hence in the case of light rays, light rays must have large reflectance. The ray duration of the rays must be the same at each individual point, and the reflection of the light in that particular point is only about one per second.\\n\\n(c) In the following cases we find that the rays cannot even get through, as they do not get through to the mirror. It is impossible to use this in the presence of reflected rays.\\n\\nIt has been shown that any ray only has the rays of one of two points. The second point cannot get through from front to rear. We will see again that it can get through. But it can also get through from a side to side.\\n\\nThis is one of those points where reflection can be easily avoided. It will only be more easily avoided if our rays in fact are all reflected from the front facing mirror, where most of the rays of the two points'}\n"
     ]
    }
   ],
   "source": [
    "\n",
    "import requests\n",
    "r = requests.post(\n",
    "    \"https://api.deepai.org/api/text-generator\",\n",
    "    data={\n",
    "        'text': 'The incident ray, the normal at the point of incidence and the reflected',\n",
    "    },\n",
    "    headers={'api-key': 'quickstart-QUdJIGlzIGNvbWluZy4uLi4K'}\n",
    ")\n",
    "print(r.json())"
   ]
  },
  {
   "cell_type": "code",
   "execution_count": 3,
   "metadata": {},
   "outputs": [
    {
     "name": "stderr",
     "output_type": "stream",
     "text": [
      "Setting `pad_token_id` to `eos_token_id`:50256 for open-end generation.\n"
     ]
    },
    {
     "data": {
      "text/plain": [
       "[{'generated_text': \"Hello, I'm a language model, I'm writing a new language for you. But first, I'd like to tell you about the language itself\"},\n",
       " {'generated_text': \"Hello, I'm a language model, and I'm trying to be as expressive as possible. In order to be expressive, it is necessary to know\"},\n",
       " {'generated_text': \"Hello, I'm a language model, so I don't get much of a license anymore, but I'm probably more familiar with other languages on that\"},\n",
       " {'generated_text': \"Hello, I'm a language model, a functional model... It's not me, it's me!\\n\\nI won't bore you with how\"},\n",
       " {'generated_text': \"Hello, I'm a language model, not an object model.\\n\\nIn a nutshell, I need to give language model a set of properties that\"}]"
      ]
     },
     "execution_count": 3,
     "metadata": {},
     "output_type": "execute_result"
    }
   ],
   "source": [
    "from transformers import pipeline, set_seed\n",
    "generator = pipeline('text-generation', model='gpt2')\n",
    "set_seed(42)\n",
    "generator(\"Hello, I'm a language model,\", max_length=30, num_return_sequences=5)"
   ]
  }
 ],
 "metadata": {
  "interpreter": {
   "hash": "ac59ebe37160ed0dfa835113d9b8498d9f09ceb179beaac4002f036b9467c963"
  },
  "kernelspec": {
   "display_name": "Python 3.9.5 64-bit",
   "name": "python3"
  },
  "language_info": {
   "codemirror_mode": {
    "name": "ipython",
    "version": 3
   },
   "file_extension": ".py",
   "mimetype": "text/x-python",
   "name": "python",
   "nbconvert_exporter": "python",
   "pygments_lexer": "ipython3",
   "version": "3.9.5"
  },
  "orig_nbformat": 4
 },
 "nbformat": 4,
 "nbformat_minor": 2
}
