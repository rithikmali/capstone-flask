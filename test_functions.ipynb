{
 "cells": [
  {
   "cell_type": "code",
   "execution_count": 1,
   "metadata": {},
   "outputs": [],
   "source": [
    "from application.getDistractors import *\n",
    "from application.getMeanings import *"
   ]
  },
  {
   "cell_type": "code",
   "execution_count": 2,
   "metadata": {},
   "outputs": [
    {
     "name": "stdout",
     "output_type": "stream",
     "text": [
      "[]\n"
     ]
    }
   ],
   "source": [
    "print(get_bow('reflection'))"
   ]
  },
  {
   "cell_type": "code",
   "execution_count": 3,
   "metadata": {},
   "outputs": [
    {
     "name": "stdout",
     "output_type": "stream",
     "text": [
      "['entity', 'peristylar', 'thivel']\n"
     ]
    }
   ],
   "source": [
    "print(get_distractors_c('reflection'))"
   ]
  },
  {
   "cell_type": "code",
   "execution_count": 2,
   "metadata": {},
   "outputs": [],
   "source": [
    "\n",
    "summarized_text = '''The incident ray, the normal at the point of incidence and the reflected are all in this plane. Bob greene: when you bend the paper you create a plane \n",
    "different from the plane in which incident and normal lie - this indicates that incident, normal and reflection all lie in the same plane, he says. \n",
    "It's another law of reflection.'''\n",
    "\n",
    "list_of_keywords = ['plane', 'point', 'paper', 'incidence', 'lie', 'law', 'reflection']\n",
    "\n",
    "list_of_meanings=get_meanings(summarized_text,list_of_keywords)"
   ]
  },
  {
   "cell_type": "code",
   "execution_count": 4,
   "metadata": {},
   "outputs": [
    {
     "data": {
      "text/plain": [
       "{'plane': 'having a surface without slope, tilt in which no part is higher or lower than another',\n",
       " 'point': 'give a point to',\n",
       " 'paper': 'cover with paper',\n",
       " 'law': 'the learned profession that is mastered by graduate study in a law school and that is responsible for the judicial system',\n",
       " 'reflection': 'the image of something as reflected by a mirror (or other reflective material'}"
      ]
     },
     "execution_count": 4,
     "metadata": {},
     "output_type": "execute_result"
    }
   ],
   "source": [
    "list_of_meanings[0]"
   ]
  }
 ],
 "metadata": {
  "interpreter": {
   "hash": "ac59ebe37160ed0dfa835113d9b8498d9f09ceb179beaac4002f036b9467c963"
  },
  "kernelspec": {
   "display_name": "Python 3.9.5 64-bit",
   "name": "python3"
  },
  "language_info": {
   "codemirror_mode": {
    "name": "ipython",
    "version": 3
   },
   "file_extension": ".py",
   "mimetype": "text/x-python",
   "name": "python",
   "nbconvert_exporter": "python",
   "pygments_lexer": "ipython3",
   "version": "3.9.5"
  },
  "orig_nbformat": 4
 },
 "nbformat": 4,
 "nbformat_minor": 2
}
