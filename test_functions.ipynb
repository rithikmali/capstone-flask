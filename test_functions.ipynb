{
 "cells": [
  {
   "cell_type": "code",
   "execution_count": 1,
   "metadata": {},
   "outputs": [],
   "source": [
    "from application.getDistractors import *\n",
    "from application.getMeanings import *\n",
    "from application.getQuestion import *"
   ]
  },
  {
   "cell_type": "code",
   "execution_count": 2,
   "metadata": {},
   "outputs": [
    {
     "name": "stdout",
     "output_type": "stream",
     "text": [
      "[]\n"
     ]
    }
   ],
   "source": [
    "print(get_bow('reflection'))"
   ]
  },
  {
   "cell_type": "code",
   "execution_count": 3,
   "metadata": {},
   "outputs": [
    {
     "name": "stdout",
     "output_type": "stream",
     "text": [
      "['entity', 'peristylar', 'thivel']\n"
     ]
    }
   ],
   "source": [
    "print(get_distractors_c('reflection'))"
   ]
  },
  {
   "cell_type": "code",
   "execution_count": 2,
   "metadata": {},
   "outputs": [],
   "source": [
    "\n",
    "summarized_text = '''The incident ray, the normal at the point of incidence and the reflected are all in this plane. Bob greene: when you bend the paper you create a plane \n",
    "different from the plane in which incident and normal lie - this indicates that incident, normal and reflection all lie in the same plane, he says. \n",
    "It's another law of reflection.'''\n",
    "\n",
    "list_of_keywords = ['plane', 'point', 'paper', 'incidence', 'lie', 'law', 'reflection']\n",
    "\n",
    "list_of_meanings=get_meanings(summarized_text,list_of_keywords)"
   ]
  },
  {
   "cell_type": "code",
   "execution_count": 2,
   "metadata": {},
   "outputs": [
    {
     "name": "stdout",
     "output_type": "stream",
     "text": [
      "{'id': '9311bc14-36ed-4b6e-a83e-04bdfbfe86f8', 'output': 'The incident ray, the normal at the point of incidence and the reflected ray rate, are also observed to have a small effect in that the ray length in the mirror is a smaller portion of the rate of reflection of the light in the mirror, and that this means the mirror is more dimrable, so that when, compared with a more dimmer mirror, the rays coming in different directions, the ray length in the mirror must be much longer. In the case of light rays, the reflectance of the rays is reduced by the rate of the ray, hence in the case of light rays, light rays must have large reflectance. The ray duration of the rays must be the same at each individual point, and the reflection of the light in that particular point is only about one per second.\\n\\n(c) In the following cases we find that the rays cannot even get through, as they do not get through to the mirror. It is impossible to use this in the presence of reflected rays.\\n\\nIt has been shown that any ray only has the rays of one of two points. The second point cannot get through from front to rear. We will see again that it can get through. But it can also get through from a side to side.\\n\\nThis is one of those points where reflection can be easily avoided. It will only be more easily avoided if our rays in fact are all reflected from the front facing mirror, where most of the rays of the two points'}\n"
     ]
    }
   ],
   "source": [
    "\n",
    "import requests\n",
    "r = requests.post(\n",
    "    \"https://api.deepai.org/api/text-generator\",\n",
    "    data={\n",
    "        'text': 'The incident ray, the normal at the point of incidence and the reflected',\n",
    "    },\n",
    "    headers={'api-key': 'quickstart-QUdJIGlzIGNvbWluZy4uLi4K'}\n",
    ")\n",
    "print(r.json())"
   ]
  },
  {
   "cell_type": "code",
   "execution_count": 3,
   "metadata": {},
   "outputs": [
    {
     "name": "stderr",
     "output_type": "stream",
     "text": [
      "Setting `pad_token_id` to `eos_token_id`:50256 for open-end generation.\n"
     ]
    },
    {
     "data": {
      "text/plain": [
       "[{'generated_text': \"Hello, I'm a language model, I'm writing a new language for you. But first, I'd like to tell you about the language itself\"},\n",
       " {'generated_text': \"Hello, I'm a language model, and I'm trying to be as expressive as possible. In order to be expressive, it is necessary to know\"},\n",
       " {'generated_text': \"Hello, I'm a language model, so I don't get much of a license anymore, but I'm probably more familiar with other languages on that\"},\n",
       " {'generated_text': \"Hello, I'm a language model, a functional model... It's not me, it's me!\\n\\nI won't bore you with how\"},\n",
       " {'generated_text': \"Hello, I'm a language model, not an object model.\\n\\nIn a nutshell, I need to give language model a set of properties that\"}]"
      ]
     },
     "execution_count": 3,
     "metadata": {},
     "output_type": "execute_result"
    }
   ],
   "source": [
    "from transformers import pipeline, set_seed\n",
    "generator = pipeline('text-generation', model='gpt2')\n",
    "set_seed(42)\n",
    "generator(\"Hello, I'm a language model,\", max_length=30, num_return_sequences=5)"
   ]
  },
  {
   "cell_type": "code",
   "execution_count": 1,
   "metadata": {},
   "outputs": [
    {
     "name": "stderr",
     "output_type": "stream",
     "text": [
      "2021-10-24 16:56:01,555 [MainThread  ] [WARNI]  Failed to see startup log message; retrying...\n"
     ]
    }
   ],
   "source": [
    "#pdf to text\n",
    "from tika import parser \n",
    "\n",
    "def get_text_tika(pdf_path):\n",
    "    raw = parser.from_file(pdf_path)\n",
    "    return raw['content']\n",
    "import string\n",
    "\n",
    "#Removes garbage characters\n",
    "text = get_text_tika(\"Light.pdf\")\n",
    "valid = string.printable\n",
    "refined_text = [character for character in text if character in valid]\n",
    "final_text = \"\".join(refined_text)\n",
    "\n",
    "#Removes blank lines\n",
    "lines = final_text.split(\"\\n\")\n",
    "non_empty_lines = [line for line in lines if line.strip() != \"\"]\n",
    "string_without_empty_lines = \"\"\n",
    "for line in non_empty_lines:\n",
    "      string_without_empty_lines += line + \"\\n\"\n",
    "\n"
   ]
  },
  {
   "cell_type": "code",
   "execution_count": 13,
   "metadata": {},
   "outputs": [],
   "source": [
    "import re\n",
    "\n",
    "regex = r\"Fig. [0-9]*\\.[0-9]*( :(.*\\n)?)?\"\n",
    "subst = \"\"\n",
    "test_str = string_without_empty_lines\n",
    "# You can manually specify the number of replacements by changing the 4th argument\n",
    "result = re.sub(regex, subst, test_str, 0)\n",
    "\n",
    "regex = r\"Activity [0-9]*\\.[0-9]\"\n",
    "test_str = result\n",
    "result = re.sub(regex, subst, test_str, 0)\n",
    "\n",
    "regex = r\"Exercises(.*\\n*)*\"\n",
    "test_str = result\n",
    "result = re.sub(regex, subst, test_str, 0)\n",
    "\n",
    "regex = r\"\\.( (.*\\n*)\\?)\"\n",
    "test_str = result.replace('\\n',\" \")\n",
    "result = re.sub(regex, \".\", test_str, 0)"
   ]
  },
  {
   "cell_type": "code",
   "execution_count": 14,
   "metadata": {},
   "outputs": [
    {
     "name": "stdout",
     "output_type": "stream",
     "text": [
      "('Chapter-16.pmd LIGHTLIGHT T he world is largely known through the senses. '\n",
      " 'The most popular resource for visually challenged persons is Braille. Louis '\n",
      " 'Braille Louis Braille, himself a visually challenged person, developed a '\n",
      " 'system for visually challenged persons and published it in 1821. Non-optical '\n",
      " 'and optical aids for visually impaired Non-optical aids include visual aids, '\n",
      " 'tactual aids (using the sense of touch), auditory aids (using the sense of '\n",
      " 'hearing) and electronic aids. Visual aids, can magnify words, can provide '\n",
      " 'suitable intensity of light and material at proper distances. Tactual aids, '\n",
      " 'including Braille writer slate and stylus, help the visually challenged '\n",
      " 'persons in taking notes, reading and writing. Auditory aids include '\n",
      " 'cassettes, tape recorders, talking books and other such devices. Electronic '\n",
      " 'aids, such as talking calculators and computers, are also available for '\n",
      " 'performing many computational tasks. Closed circuit television, also an '\n",
      " 'electronic aid, enlarges printed material with suitable contrast and '\n",
      " 'illumination. Nowadays, use of audio CDs and voice boxes with computers are '\n",
      " 'also very helpful for listening to and writing the desired text. Optical '\n",
      " 'aids include bifocal lenses, contact lenses, tinted lenses, magnifiers and '\n",
      " 'telescopic aids. While the lens combinations are used to rectify visual '\n",
      " 'limitations, telescopic aids are available to view chalkboard and class '\n",
      " 'demonstrations. in Braille System Braille system has 63 dot patterns or '\n",
      " 'characters. Each character represents a letter, a combination of letters, a '\n",
      " 'common word or a grammatical sign. Dots are arranged in cells of two '\n",
      " 'vertical rows of three dots each. Patterns of dots to represent some English '\n",
      " 'letters and some common words are shown below. These patterns when embossed '\n",
      " 'on Braille sheets help visually challenged persons to recognise words by '\n",
      " 'touching. To make them easier to touch, the dots are raised slightly. The '\n",
      " 'present system was adopted in 1932. There is Braille code for common '\n",
      " 'languages, mathematics and scientific notation. Many Indian languages can be '\n",
      " 'read using the Braille system. 202122 SCIENCE210 Some visually impaired '\n",
      " 'Indians have great achievements to their credit. Diwakar, a child prodigy '\n",
      " 'has given amazing performances as a singer. Ravindra Jain, born completely '\n",
      " 'visually impaired, obtained his Sangeet Prabhakar degree from Allahabad. He '\n",
      " 'had shown his excellence as a lyricist, singer and music composer. Lal '\n",
      " 'Advani, himself visually impaired, established an Association for special '\n",
      " 'education and rehabilitation of disabled in India. Besides this, he '\n",
      " 'represented India on Braille problems in UNESCO. Helen A. Keller, an '\n",
      " 'American author and lecturer, is perhaps the most well- known and inspiring '\n",
      " 'visually challenged person. She lost her sight when she was only 18 months '\n",
      " 'old. But because of her resolve and courage she could complete her '\n",
      " 'graduation from a university. She wrote a number of books including The '\n",
      " 'Story of my Life (1903). Helen A. Keller Visually impaired people learn the '\n",
      " 'Braille system by beginning with letters,  then special characters and '\n",
      " 'letter combinations. Methods depend upon recognition by touching. Each '\n",
      " 'character has to be memorised. Braille texts can be produced by hand or by '\n",
      " 'machine. Typewriter-like devices and printing machines have now been '\n",
      " 'developed. 202122 LIGHT 211      KEYWORDSKEYWORDSKEYWORDSKEYWORDSKEYWORDS '\n",
      " 'ANGLE OF INCIDENCE ANGLE OF REFLECTION BLIND SPOT BRAILLE CONES CORNEA '\n",
      " 'DIFFUSED OR IRREGULAR REFLECTION INCIDENT RAYS IRIS KALEIDOSCOPE LATERAL '\n",
      " 'INVERSION LAWS OF REFLECTION PUPIL REFLECTED RAYS REFLECTION REGULAR '\n",
      " 'REFLECTION RETINA RODS  WHA WHA WHA WHA WHAT YT YT YT YT YOU HAOU HAOU HAOU '\n",
      " 'HAOU HAVE LEARNTVE LEARNTVE LEARNTVE LEARNTVE LEARNT  Light is reflected '\n",
      " 'from all surfaces.  Regular reflection takes place when light is incident on '\n",
      " 'smooth, polished and regular surfaces.  Diffused or irregular reflection '\n",
      " 'takes place from rough surfaces.  Two laws of reflection are (i) The angle '\n",
      " 'of incidence is equal to the angle of reflection. (ii) Incident ray, '\n",
      " 'reflected ray and the normal drawn at the point of incidence to the '\n",
      " 'reflecting surface, lie in the same plane.  Image formed in a plane mirror '\n",
      " 'undergoes lateral inversion.  Two mirrors inclined to each other give '\n",
      " 'multiple images.  Beautiful patterns are formed in a kaleidoscope because of '\n",
      " 'multiple reflections.  Sunlight, called white light, consists of seven '\n",
      " 'colours.  Splitting of light into its constituent colours is known as '\n",
      " 'dispersion.  Parts of the eye are cornea, iris, pupil, lens, retina and '\n",
      " 'optic nerve.  A normal eye can see nearby and distant objects clearly.  '\n",
      " 'Visually impaired persons can read and write using the Braille system.  '\n",
      " 'Visually impaired persons develop their other senses more sharply to improve '\n",
      " 'their interac- tion with their environment. 202122 SCIENCE212 ')\n"
     ]
    }
   ],
   "source": [
    "from pprint import pprint\n",
    "\n",
    "pprint(result)"
   ]
  },
  {
   "cell_type": "code",
   "execution_count": null,
   "metadata": {},
   "outputs": [],
   "source": []
  }
 ],
 "metadata": {
  "interpreter": {
   "hash": "ac59ebe37160ed0dfa835113d9b8498d9f09ceb179beaac4002f036b9467c963"
  },
  "kernelspec": {
   "display_name": "Python 3.9.5 64-bit",
   "name": "python3"
  },
  "language_info": {
   "codemirror_mode": {
    "name": "ipython",
    "version": 3
   },
   "file_extension": ".py",
   "mimetype": "text/x-python",
   "name": "python",
   "nbconvert_exporter": "python",
   "pygments_lexer": "ipython3",
   "version": "3.9.5"
  },
  "orig_nbformat": 4
 },
 "nbformat": 4,
 "nbformat_minor": 2
}
